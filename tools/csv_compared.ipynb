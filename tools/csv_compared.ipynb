{
 "cells": [
  {
   "cell_type": "code",
   "execution_count": 22,
   "id": "aa0cca29",
   "metadata": {},
   "outputs": [],
   "source": [
    "import os\n",
    "import glob\n",
    "import shutil\n",
    "import pandas as pd\n",
    "import geopandas as gpd"
   ]
  },
  {
   "cell_type": "code",
   "execution_count": 23,
   "id": "19b776d1",
   "metadata": {},
   "outputs": [],
   "source": [
    "# input sample paths\n",
    "# the order is importent\n",
    "BASE_PATHS = [\n",
    "    '../example_3',\n",
    "    '../example_2',\n",
    "    '../example_1'\n",
    "]\n",
    "\n",
    "# input paths inside of an each sample path\n",
    "INPUT_RESULT_FOLDER = 'output/analyser'\n",
    "INPUT_DB = 'db/database.gpkg'\n",
    "\n",
    "# output folder - will include comparisons\n",
    "OUTPUT_CSV_FOLDER = '../csv'"
   ]
  },
  {
   "cell_type": "code",
   "execution_count": 24,
   "id": "8768d157",
   "metadata": {},
   "outputs": [],
   "source": [
    "def clean_folder(path):\n",
    "    if os.path.exists(path):\n",
    "        shutil.rmtree(path)\n",
    "    os.mkdir(path)     \n",
    "\n",
    "paths = BASE_PATHS\n",
    "names = list(map(lambda p: os.path.basename(p), paths))\n",
    "\n",
    "clean_folder(OUTPUT_CSV_FOLDER)"
   ]
  },
  {
   "cell_type": "code",
   "execution_count": 25,
   "id": "29cca942",
   "metadata": {},
   "outputs": [],
   "source": [
    "# distance between points \n",
    "db_file = os.path.join(paths[0], INPUT_DB)\n",
    "profiles = gpd.read_file(db_file, layer='profiles')\n",
    "points_distance = round(profiles.iloc[0].geometry.distance(profiles.iloc[1].geometry), 3)"
   ]
  },
  {
   "cell_type": "code",
   "execution_count": 26,
   "id": "ce01a6ea",
   "metadata": {},
   "outputs": [],
   "source": [
    "def get_results_diff(first, second):\n",
    "    merged = first.merge(second, left_on='profile_id', right_on='profile_id', how='left')\n",
    "    diff = pd.DataFrame({\n",
    "        'profile_id': merged.profile_id,\n",
    "        'zero_position': (merged.last_zero_id_y - merged.last_zero_id_x) * points_distance,\n",
    "        'zero_elevation': merged.last_zero_elevation_y - merged.last_zero_elevation_x,\n",
    "\n",
    "        'bottom_position': (merged.bottom_id_y - merged.bottom_id_x) * points_distance,\n",
    "        'bottom_elevation': merged.bottom_elevation_y - merged.bottom_elevation_x,\n",
    "\n",
    "        'top_position': (merged.top_id_y - merged.top_id_x) * points_distance,\n",
    "        'top_elevation': merged.top_elevation_y - merged.top_elevation_x,\n",
    "\n",
    "        'to_bottom_distance': merged.to_bottom_distance_y - merged.to_bottom_distance_x,\n",
    "        'to_bottom_slope': merged.to_bottom_slope_y - merged.to_bottom_slope_x,\n",
    "        'to_bottom_volume': merged.to_bottom_volume_y - merged.to_bottom_volume_x,\n",
    "\n",
    "        'to_top_distance': merged.to_top_distance_y - merged.to_top_distance_x,\n",
    "        'to_top_slope': merged.to_top_slope_y - merged.to_top_slope_x,\n",
    "        'to_top_volume': merged.to_top_volume_y - merged.to_top_volume_x  \n",
    "    })\n",
    "    return diff"
   ]
  },
  {
   "cell_type": "code",
   "execution_count": 27,
   "id": "cf13ac6a",
   "metadata": {},
   "outputs": [],
   "source": [
    "# analyser results\n",
    "samples = []\n",
    "\n",
    "for path in paths:\n",
    "    results_file = glob.glob(os.path.join(path, INPUT_RESULT_FOLDER, '*.csv'))\n",
    "    if len(results_file) == 0:\n",
    "        break\n",
    "    res = pd.read_csv(results_file[0], encoding='utf-8', sep=',', skipinitialspace=True)\n",
    "    samples.append(res)    "
   ]
  },
  {
   "cell_type": "code",
   "execution_count": 28,
   "id": "e0402acf",
   "metadata": {},
   "outputs": [],
   "source": [
    "diffs = []\n",
    "\n",
    "for idx, sample in enumerate(samples[:-1]):\n",
    "    diffs.append(get_results_diff(samples[idx], samples[idx+1]))"
   ]
  },
  {
   "cell_type": "code",
   "execution_count": 30,
   "id": "8c50f932",
   "metadata": {},
   "outputs": [],
   "source": [
    "fields = [\n",
    "    'zero_position',\n",
    "    'zero_elevation',\n",
    "    'bottom_position',\n",
    "    'bottom_elevation',\n",
    "    'top_position',\n",
    "    'top_elevation',\n",
    "    'to_bottom_distance',\n",
    "    'to_bottom_slope',\n",
    "    'to_bottom_volume',\n",
    "    'to_top_distance',\n",
    "    'to_top_slope',\n",
    "    'to_top_volume'\n",
    "]\n",
    "\n",
    "for field in fields:\n",
    "    field_diffs = pd.DataFrame({\n",
    "        'profile_id': diffs[0].profile_id\n",
    "    })\n",
    "    for diff_idx, diff in enumerate(diffs):\n",
    "        field_diffs = field_diffs.merge(diff[['profile_id', field]], left_on='profile_id', right_on='profile_id', how='left')\n",
    "        field_diffs.rename(columns = {field: f'{names[diff_idx]}_{names[diff_idx+1]}'}, inplace = True)\n",
    "    \n",
    "    field_diffs.to_csv(os.path.join(OUTPUT_CSV_FOLDER, f'{field}_diff.csv'), encoding='utf-8', sep=',')"
   ]
  },
  {
   "cell_type": "code",
   "execution_count": null,
   "id": "80ae067c",
   "metadata": {},
   "outputs": [],
   "source": []
  }
 ],
 "metadata": {
  "kernelspec": {
   "display_name": "Python 3 (ipykernel)",
   "language": "python",
   "name": "python3"
  },
  "language_info": {
   "codemirror_mode": {
    "name": "ipython",
    "version": 3
   },
   "file_extension": ".py",
   "mimetype": "text/x-python",
   "name": "python",
   "nbconvert_exporter": "python",
   "pygments_lexer": "ipython3",
   "version": "3.10.6"
  }
 },
 "nbformat": 4,
 "nbformat_minor": 5
}
