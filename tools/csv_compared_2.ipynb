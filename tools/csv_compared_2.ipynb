{
 "cells": [
  {
   "cell_type": "code",
   "execution_count": 75,
   "id": "a019c15a",
   "metadata": {},
   "outputs": [],
   "source": [
    "import os\n",
    "import glob\n",
    "import shutil\n",
    "import pandas as pd\n",
    "import geopandas as gpd"
   ]
  },
  {
   "cell_type": "code",
   "execution_count": 76,
   "id": "b7157a98",
   "metadata": {},
   "outputs": [],
   "source": [
    "# input sample paths\n",
    "# the order is importent\n",
    "# maximal 2 paths\n",
    "BASE_PATHS = [\n",
    "    '../example_2',\n",
    "    '../example_1'\n",
    "]\n",
    "\n",
    "# input paths inside of an each sample path\n",
    "INPUT_RESULT_FOLDER = 'output/analyser'\n",
    "INPUT_DB = 'db/database.gpkg'\n",
    "\n",
    "# output folder - will include comparisons\n",
    "OUTPUT_CSV_FOLDER = '../csv'"
   ]
  },
  {
   "cell_type": "code",
   "execution_count": 77,
   "id": "01fd474d",
   "metadata": {},
   "outputs": [],
   "source": [
    "def clean_folder(path):\n",
    "    if os.path.exists(path):\n",
    "        shutil.rmtree(path)\n",
    "    os.mkdir(path)     \n",
    "\n",
    "paths = BASE_PATHS\n",
    "names = list(map(lambda p: os.path.basename(p), paths))\n",
    "\n",
    "clean_folder(OUTPUT_CSV_FOLDER)"
   ]
  },
  {
   "cell_type": "code",
   "execution_count": 78,
   "id": "a1df6032",
   "metadata": {},
   "outputs": [],
   "source": [
    "def get_results_diff(first, second):\n",
    "    merged = first.merge(second, left_on='profile_id', right_on='profile_id', how='left')\n",
    "    diff = pd.DataFrame({\n",
    "        'profile_id': merged.profile_id,\n",
    "        'zero_position': (merged.last_zero_id_y - merged.last_zero_id_x) * points_distance,\n",
    "        'zero_elevation': merged.last_zero_elevation_y - merged.last_zero_elevation_x,\n",
    "\n",
    "        'bottom_position': (merged.bottom_id_y - merged.bottom_id_x) * points_distance,\n",
    "        'bottom_elevation': merged.bottom_elevation_y - merged.bottom_elevation_x,\n",
    "\n",
    "        'top_position': (merged.top_id_y - merged.top_id_x) * points_distance,\n",
    "        'top_elevation': merged.top_elevation_y - merged.top_elevation_x,\n",
    "\n",
    "        'to_bottom_distance': merged.to_bottom_distance_y - merged.to_bottom_distance_x,\n",
    "        'to_bottom_slope': merged.to_bottom_slope_y - merged.to_bottom_slope_x,\n",
    "        'to_bottom_volume': merged.to_bottom_volume_y - merged.to_bottom_volume_x,\n",
    "\n",
    "        'to_top_distance': merged.to_top_distance_y - merged.to_top_distance_x,\n",
    "        'to_top_slope': merged.to_top_slope_y - merged.to_top_slope_x,\n",
    "        'to_top_volume': merged.to_top_volume_y - merged.to_top_volume_x  \n",
    "    })\n",
    "    return diff"
   ]
  },
  {
   "cell_type": "code",
   "execution_count": 79,
   "id": "abbd2622",
   "metadata": {},
   "outputs": [],
   "source": [
    "# analyser results\n",
    "first_file_name = glob.glob(os.path.join(paths[0], INPUT_RESULT_FOLDER, '*.csv'))[0]\n",
    "second_file_name = glob.glob(os.path.join(paths[1], INPUT_RESULT_FOLDER, '*.csv'))[0]\n",
    "\n",
    "first = pd.read_csv(first_file_name, encoding='utf-8', sep=',', skipinitialspace=True)\n",
    "second = pd.read_csv(second_file_name, encoding='utf-8', sep=',', skipinitialspace=True)\n",
    "\n",
    "# distance between points \n",
    "db_file = os.path.join(paths[0], INPUT_DB)\n",
    "profiles = gpd.read_file(db_file, layer='profiles')\n",
    "points_distance = round(profiles.iloc[0].geometry.distance(profiles.iloc[1].geometry), 3)"
   ]
  },
  {
   "cell_type": "code",
   "execution_count": 80,
   "id": "d65cb5b5",
   "metadata": {},
   "outputs": [],
   "source": [
    "diff = get_results_diff(first, second)\n",
    "diff.to_csv(os.path.join(OUTPUT_CSV_FOLDER, f'{names[0]}_{names[1]}_diff.csv'), encoding='utf-8', sep=',')"
   ]
  },
  {
   "cell_type": "code",
   "execution_count": null,
   "id": "0013f2ff",
   "metadata": {},
   "outputs": [],
   "source": []
  }
 ],
 "metadata": {
  "kernelspec": {
   "display_name": "Python 3 (ipykernel)",
   "language": "python",
   "name": "python3"
  },
  "language_info": {
   "codemirror_mode": {
    "name": "ipython",
    "version": 3
   },
   "file_extension": ".py",
   "mimetype": "text/x-python",
   "name": "python",
   "nbconvert_exporter": "python",
   "pygments_lexer": "ipython3",
   "version": "3.10.6"
  }
 },
 "nbformat": 4,
 "nbformat_minor": 5
}
