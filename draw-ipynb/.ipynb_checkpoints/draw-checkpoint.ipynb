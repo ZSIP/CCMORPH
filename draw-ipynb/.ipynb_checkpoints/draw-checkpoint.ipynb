{
 "cells": [
  {
   "cell_type": "code",
   "execution_count": 8,
   "id": "e133e66c",
   "metadata": {},
   "outputs": [],
   "source": [
    "%matplotlib inline\n",
    "\n",
    "import re\n",
    "import glob\n",
    "import math\n",
    "import json\n",
    "import pandas as pd\n",
    "from natsort import natsorted\n",
    "import numpy as np\n",
    "import matplotlib.pyplot as plt\n",
    "from os.path import join, exists, isdir\n",
    "from os import makedirs"
   ]
  },
  {
   "cell_type": "code",
   "execution_count": 19,
   "id": "77f72cee",
   "metadata": {},
   "outputs": [],
   "source": [
    "with open(\"config.json\", \"r\") as jsonfile:\n",
    "    config = json.load(jsonfile)"
   ]
  },
  {
   "cell_type": "code",
   "execution_count": 21,
   "id": "15ce4aed",
   "metadata": {},
   "outputs": [],
   "source": [
    "def get_distance(ax, ay, bx, by):\n",
    "    return ((ax - bx)**2 + (ay - by)**2) ** 0.5\n",
    "\n",
    "def project_points(profile_csv, subpoints):\n",
    "    subpoints_idx = []\n",
    "    for subpoint in subpoints:\n",
    "\n",
    "        dist1 = float('inf')\n",
    "        dist2 = float('inf')\n",
    "        for point in profile_csv.loc[:, ['x_geo', 'y_geo', 'no_point']].values:\n",
    "            d1 = get_distance(point[0], point[1], subpoint[1], subpoint[2])\n",
    "            d2 = get_distance(point[0], point[1], subpoint[3], subpoint[4])\n",
    "            if d1 < dist1:\n",
    "                dist1 = d1\n",
    "                idx1 = point[2]\n",
    "            if d2 < dist2:\n",
    "                dist2 = d2\n",
    "                idx2 = point[2]                \n",
    "        \n",
    "        subpoints_idx.append([min([idx1, idx2]), max([idx1, idx2])])\n",
    "\n",
    "    return subpoints_idx"
   ]
  },
  {
   "cell_type": "code",
   "execution_count": 22,
   "id": "29eae55f",
   "metadata": {},
   "outputs": [],
   "source": [
    "def draw_profile_features(title, axlines, features, points, profile, begin_no, end_no, zoom=False, save=False, show=True):\n",
    "    \n",
    "    cut = profile[profile['id'] > 0]\n",
    "    if len(cut) > 0:\n",
    "        figures_path = config[\"figures\"][\"path\"]\n",
    "        \n",
    "        first_no = cut.iloc[0]['no_point']\n",
    "        last_no = cut.iloc[-1]['no_point']\n",
    "        first_no = first_no if first_no > begin_no else begin_no\n",
    "        last_no = last_no if last_no < end_no else end_no\n",
    " \n",
    "        x_min = begin_no if not zoom else first_no - 10\n",
    "        x_max = end_no if not zoom else last_no + 10\n",
    "            \n",
    "        plt.xlim((x_min, x_max))\n",
    "        plt.ylim((min(profile.elevation) - 1, max(profile.elevation) + 10)) \n",
    "        plt.gca().set_aspect('equal')\n",
    "        plt.title(f'{title}  {\"[zoomed]\" if zoom else \"\"}')\n",
    "        plt.xlabel('point no')\n",
    "        plt.grid(linestyle=':')\n",
    "\n",
    "        for line in axlines:\n",
    "            plt.axhline(y = line, color = 'y', linestyle = '--')\n",
    "            \n",
    "        axlines=[3],\n",
    "        \n",
    "        for f in features:\n",
    "            y = profile[f][begin_no:end_no].to_numpy()\n",
    "            plt.plot(np.arange(begin_no, end_no), y, '--')            \n",
    "            \n",
    "            y1 = profile[f][first_no:last_no].to_numpy()\n",
    "            plt.plot(np.arange(first_no, last_no), y1)    \n",
    "         \n",
    "            \n",
    "        def plot_point(name, point, base, color, mark):\n",
    "            if math.isnan(point):\n",
    "                return\n",
    "    \n",
    "            point = point.astype(int)\n",
    "            if point < len(y) and point > 0:\n",
    "                # point\n",
    "                plt.plot(point, y[point], f'{color}{mark}', label=f'{name}: {point}')\n",
    "\n",
    "                # line\n",
    "                l = max(y) / 4\n",
    "                yy = y[point] + (max((l, 4)) * base/abs(base)) # + label_y\n",
    "                plt.plot((point, point), (y[point], yy), f'{color}--')\n",
    "\n",
    "                # label\n",
    "                plt.annotate(point, (point, yy))\n",
    "\n",
    "        if len(points) > 0:\n",
    "            plot_point('M1_D_high', points['M1_D_high'].iloc[0], base=2, color='r', mark='o')\n",
    "            plot_point('M2_D_high', points['M2_D_high'].iloc[0], base=2, color='y', mark='o')\n",
    "            plot_point('M1_D_low', points['M1_D_low'].iloc[0], base=2, color='g', mark='o')\n",
    "            plot_point('M2_D_low', points['M2_D_low'].iloc[0], base=2, color='b', mark='o')\n",
    "\n",
    "        plt.legend()\n",
    "            \n",
    "        if save:\n",
    "            if not exists(figures_path) or not isdir(figures_path):\n",
    "                makedirs(figures_path)\n",
    "            plt.savefig(join(figures_path, f'{title}.cut{\".zoom\" if zoom else \"\"}.jpg'), bbox_inches='tight', pad_inches=1, dpi=300)\n",
    "\n",
    "        if show:\n",
    "            plt.show()      \n",
    "\n",
    "        plt.close()"
   ]
  },
  {
   "cell_type": "code",
   "execution_count": 23,
   "id": "7c21616f",
   "metadata": {},
   "outputs": [],
   "source": [
    "csv_results = pd.read_csv(config[\"csv\"][\"results\"][\"path\"], encoding='utf-8', sep=config[\"csv\"][\"results\"][\"sep\"], skipinitialspace=True)\n",
    "id_list = csv_results.profile_id"
   ]
  },
  {
   "cell_type": "code",
   "execution_count": 24,
   "id": "c452bb3c",
   "metadata": {},
   "outputs": [],
   "source": [
    "profile_files = list(filter(lambda p: int(re.search('\\d{1,4}', p)[0]) in id_list, natsorted(glob.glob(join(config[\"csv\"][\"profiles\"][\"path\"], \"*\")))))\n",
    "\n",
    "profiles = []\n",
    "profile_names = []\n",
    "\n",
    "for name in profile_files:\n",
    "    profile_names.append(name)\n",
    "    profiles.append(pd.read_csv(name, encoding='utf-8', sep=config[\"csv\"][\"profiles\"][\"sep\"], skipinitialspace=True))"
   ]
  },
  {
   "cell_type": "code",
   "execution_count": 25,
   "id": "f6575331",
   "metadata": {
    "scrolled": true
   },
   "outputs": [
    {
     "ename": "KeyError",
     "evalue": "'figurs'",
     "output_type": "error",
     "traceback": [
      "\u001b[0;31m--------------------------------------------------------------------------\u001b[0m",
      "\u001b[0;31mKeyError\u001b[0m                                 Traceback (most recent call last)",
      "\u001b[0;32m<ipython-input-25-7ee545467c75>\u001b[0m in \u001b[0;36m<module>\u001b[0;34m\u001b[0m\n\u001b[1;32m      2\u001b[0m \u001b[0;32mfor\u001b[0m \u001b[0midx\u001b[0m \u001b[0;32min\u001b[0m \u001b[0mrange\u001b[0m\u001b[0;34m(\u001b[0m\u001b[0mlen\u001b[0m\u001b[0;34m(\u001b[0m\u001b[0mprofiles\u001b[0m\u001b[0;34m)\u001b[0m\u001b[0;34m)\u001b[0m\u001b[0;34m:\u001b[0m\u001b[0;34m\u001b[0m\u001b[0;34m\u001b[0m\u001b[0m\n\u001b[1;32m      3\u001b[0m     \u001b[0mprofile_id\u001b[0m \u001b[0;34m=\u001b[0m \u001b[0mint\u001b[0m\u001b[0;34m(\u001b[0m\u001b[0mre\u001b[0m\u001b[0;34m.\u001b[0m\u001b[0mfindall\u001b[0m\u001b[0;34m(\u001b[0m\u001b[0;34m'\\d{1,4}'\u001b[0m\u001b[0;34m,\u001b[0m \u001b[0mprofile_names\u001b[0m\u001b[0;34m[\u001b[0m\u001b[0midx\u001b[0m\u001b[0;34m]\u001b[0m\u001b[0;34m)\u001b[0m\u001b[0;34m[\u001b[0m\u001b[0;36m0\u001b[0m\u001b[0;34m]\u001b[0m\u001b[0;34m)\u001b[0m\u001b[0;34m\u001b[0m\u001b[0;34m\u001b[0m\u001b[0m\n\u001b[0;32m----> 4\u001b[0;31m     draw_profile_features(\n\u001b[0m\u001b[1;32m      5\u001b[0m         \u001b[0mtitle\u001b[0m\u001b[0;34m=\u001b[0m\u001b[0mprofile_id\u001b[0m\u001b[0;34m,\u001b[0m\u001b[0;34m\u001b[0m\u001b[0;34m\u001b[0m\u001b[0m\n\u001b[1;32m      6\u001b[0m         \u001b[0maxlines\u001b[0m\u001b[0;34m=\u001b[0m\u001b[0;34m[\u001b[0m\u001b[0;36m3\u001b[0m\u001b[0;34m]\u001b[0m\u001b[0;34m,\u001b[0m \u001b[0;31m# threshold\u001b[0m\u001b[0;34m\u001b[0m\u001b[0;34m\u001b[0m\u001b[0m\n",
      "\u001b[0;32m<ipython-input-22-9bd63a609fb1>\u001b[0m in \u001b[0;36mdraw_profile_features\u001b[0;34m(title, axlines, features, points, profile, begin_no, end_no, zoom, save, show)\u001b[0m\n\u001b[1;32m      3\u001b[0m     \u001b[0mcut\u001b[0m \u001b[0;34m=\u001b[0m \u001b[0mprofile\u001b[0m\u001b[0;34m[\u001b[0m\u001b[0mprofile\u001b[0m\u001b[0;34m[\u001b[0m\u001b[0;34m'id'\u001b[0m\u001b[0;34m]\u001b[0m \u001b[0;34m>\u001b[0m \u001b[0;36m0\u001b[0m\u001b[0;34m]\u001b[0m\u001b[0;34m\u001b[0m\u001b[0;34m\u001b[0m\u001b[0m\n\u001b[1;32m      4\u001b[0m     \u001b[0;32mif\u001b[0m \u001b[0mlen\u001b[0m\u001b[0;34m(\u001b[0m\u001b[0mcut\u001b[0m\u001b[0;34m)\u001b[0m \u001b[0;34m>\u001b[0m \u001b[0;36m0\u001b[0m\u001b[0;34m:\u001b[0m\u001b[0;34m\u001b[0m\u001b[0;34m\u001b[0m\u001b[0m\n\u001b[0;32m----> 5\u001b[0;31m         \u001b[0mfigures_path\u001b[0m \u001b[0;34m=\u001b[0m \u001b[0mconfig\u001b[0m\u001b[0;34m[\u001b[0m\u001b[0;34m\"figurs\"\u001b[0m\u001b[0;34m]\u001b[0m\u001b[0;34m[\u001b[0m\u001b[0;34m\"path\"\u001b[0m\u001b[0;34m]\u001b[0m\u001b[0;34m\u001b[0m\u001b[0;34m\u001b[0m\u001b[0m\n\u001b[0m\u001b[1;32m      6\u001b[0m \u001b[0;34m\u001b[0m\u001b[0m\n\u001b[1;32m      7\u001b[0m         \u001b[0mfirst_no\u001b[0m \u001b[0;34m=\u001b[0m \u001b[0mcut\u001b[0m\u001b[0;34m.\u001b[0m\u001b[0miloc\u001b[0m\u001b[0;34m[\u001b[0m\u001b[0;36m0\u001b[0m\u001b[0;34m]\u001b[0m\u001b[0;34m[\u001b[0m\u001b[0;34m'no_point'\u001b[0m\u001b[0;34m]\u001b[0m\u001b[0;34m\u001b[0m\u001b[0;34m\u001b[0m\u001b[0m\n",
      "\u001b[0;31mKeyError\u001b[0m: 'figurs'"
     ]
    }
   ],
   "source": [
    "plt.rcParams[\"figure.figsize\"] = (20,3)\n",
    "for idx in range(len(profiles)):\n",
    "    profile_id = int(re.findall('\\d{1,4}', profile_names[idx])[0])\n",
    "    draw_profile_features(\n",
    "        title=profile_id,\n",
    "        axlines=[3], # threshold\n",
    "        features=['elevation'],\n",
    "        points=csv_results.loc[csv_results['profile_id'] == profile_id],\n",
    "        profile=profiles[idx],\n",
    "        begin_no=0,\n",
    "        end_no=len(profiles[idx]) - 1,\n",
    "        zoom=True,\n",
    "        save=True,\n",
    "        show=True)"
   ]
  },
  {
   "cell_type": "code",
   "execution_count": null,
   "id": "45b34386",
   "metadata": {},
   "outputs": [],
   "source": []
  }
 ],
 "metadata": {
  "kernelspec": {
   "display_name": "Python 3",
   "language": "python",
   "name": "python3"
  },
  "language_info": {
   "codemirror_mode": {
    "name": "ipython",
    "version": 3
   },
   "file_extension": ".py",
   "mimetype": "text/x-python",
   "name": "python",
   "nbconvert_exporter": "python",
   "pygments_lexer": "ipython3",
   "version": "3.8.8"
  }
 },
 "nbformat": 4,
 "nbformat_minor": 5
}
